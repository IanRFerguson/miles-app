{
 "cells": [
  {
   "cell_type": "code",
   "execution_count": null,
   "id": "9f03771c",
   "metadata": {},
   "outputs": [],
   "source": [
    "from helper import *"
   ]
  },
  {
   "cell_type": "code",
   "execution_count": null,
   "id": "94b09f0d",
   "metadata": {},
   "outputs": [],
   "source": [
    "import matplotlib.dates as mdates\n",
    "\n",
    "output = frames()\n",
    "\n",
    "def generateSubtitle(X):\n",
    "    total_run = round(sum(X['miles']), 2)\n",
    "    today = datetime.now().strftime('%b-%d')\n",
    "    return \"Updated {} | Total Miles: {}\".format(today, total_run)\n",
    "\n",
    "dateForm = mdates.DateFormatter('%m-%d')\n",
    "\n",
    "# ALL MILES\n",
    "plt.figure(figsize=(15, 6))\n",
    "g = sns.barplot(data=output, x='dates', y='miles', hue='max_miles')\n",
    "\n",
    "ticks = g.get_xticks()\n",
    "labels = g.get_xticklabels()\n",
    "n = len(ticks) // 20\n",
    "g.set_xticks(ticks[::n])\n",
    "g.set_xticklabels(labels[::n])\n",
    "\n",
    "plt.title(generateSubtitle(output), fontsize=18)\n",
    "g.xaxis.set_major_formatter(dateForm)\n",
    "plt.xlabel('')\n",
    "plt.ylabel('Miles Run', fontsize=12)\n",
    "plt.legend('')\n",
    "\n",
    "plt.show()\n",
    "#plt.savefig('./static/plots/MILES.png')"
   ]
  },
  {
   "cell_type": "code",
   "execution_count": null,
   "id": "812bc10a",
   "metadata": {},
   "outputs": [],
   "source": []
  },
  {
   "cell_type": "code",
   "execution_count": null,
   "id": "e3699176",
   "metadata": {},
   "outputs": [],
   "source": [
    "ticks"
   ]
  },
  {
   "cell_type": "code",
   "execution_count": null,
   "id": "40bb0ce2",
   "metadata": {},
   "outputs": [],
   "source": []
  }
 ],
 "metadata": {
  "kernelspec": {
   "display_name": "Python 3",
   "language": "python",
   "name": "python3"
  },
  "language_info": {
   "codemirror_mode": {
    "name": "ipython",
    "version": 3
   },
   "file_extension": ".py",
   "mimetype": "text/x-python",
   "name": "python",
   "nbconvert_exporter": "python",
   "pygments_lexer": "ipython3",
   "version": "3.7.0"
  }
 },
 "nbformat": 4,
 "nbformat_minor": 5
}
